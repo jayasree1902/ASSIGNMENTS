{
 "cells": [
  {
   "cell_type": "code",
   "execution_count": 1,
   "id": "41fb379e",
   "metadata": {},
   "outputs": [],
   "source": [
    "s = \"this is My First Python programming class and i am learNING python string and its function\" "
   ]
  },
  {
   "cell_type": "code",
   "execution_count": 2,
   "id": "2495a638",
   "metadata": {},
   "outputs": [
    {
     "data": {
      "text/plain": [
       "'h'"
      ]
     },
     "execution_count": 2,
     "metadata": {},
     "output_type": "execute_result"
    }
   ],
   "source": [
    "s[1:3:30"
   ]
  },
  {
   "cell_type": "code",
   "execution_count": 3,
   "id": "301af2ea",
   "metadata": {},
   "outputs": [
    {
     "data": {
      "text/plain": [
       "'noitcnuf sti dna gnirts nohtyp GNINrael ma i dna ssalc gnimmargorp nohtyP tsriF yM si siht'"
      ]
     },
     "execution_count": 3,
     "metadata": {},
     "output_type": "execute_result"
    }
   ],
   "source": [
    "s[: : -1]"
   ]
  },
  {
   "cell_type": "markdown",
   "id": "e816f925",
   "metadata": {},
   "source": [
    "# compiler"
   ]
  },
  {
   "cell_type": "markdown",
   "id": "46bc7177",
   "metadata": {},
   "source": [
    "compiler translates high level language into low level language that is programming language to machine understanding language."
   ]
  },
  {
   "cell_type": "markdown",
   "id": "e5bb37f8",
   "metadata": {},
   "source": [
    "# interpreter"
   ]
  },
  {
   "cell_type": "markdown",
   "id": "e8025de3",
   "metadata": {},
   "source": [
    "interpreter is also a kind of compiler which works same as compiler but goes line by line."
   ]
  },
  {
   "cell_type": "markdown",
   "id": "55b3eb82",
   "metadata": {},
   "source": [
    "# 4.python"
   ]
  },
  {
   "cell_type": "markdown",
   "id": "f85f89e8",
   "metadata": {},
   "source": [
    "python is a compiled language unlike other languages like c,c++,java etc."
   ]
  },
  {
   "cell_type": "code",
   "execution_count": null,
   "id": "ac1515ef",
   "metadata": {},
   "outputs": [],
   "source": []
  }
 ],
 "metadata": {
  "kernelspec": {
   "display_name": "Python 3 (ipykernel)",
   "language": "python",
   "name": "python3"
  },
  "language_info": {
   "codemirror_mode": {
    "name": "ipython",
    "version": 3
   },
   "file_extension": ".py",
   "mimetype": "text/x-python",
   "name": "python",
   "nbconvert_exporter": "python",
   "pygments_lexer": "ipython3",
   "version": "3.10.5"
  }
 },
 "nbformat": 4,
 "nbformat_minor": 5
}
