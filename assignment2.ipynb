{
 "cells": [
  {
   "cell_type": "markdown",
   "id": "698f87f2",
   "metadata": {},
   "source": [
    "# 1.try to convert the string to uppercase and split it."
   ]
  },
  {
   "cell_type": "code",
   "execution_count": 11,
   "id": "26d20b6e",
   "metadata": {},
   "outputs": [],
   "source": [
    "s1=\"hyderabad\""
   ]
  },
  {
   "cell_type": "code",
   "execution_count": 12,
   "id": "a75618aa",
   "metadata": {},
   "outputs": [
    {
     "data": {
      "text/plain": [
       "'HYDERABAD'"
      ]
     },
     "execution_count": 12,
     "metadata": {},
     "output_type": "execute_result"
    }
   ],
   "source": [
    "s1.upper()"
   ]
  },
  {
   "cell_type": "code",
   "execution_count": 23,
   "id": "b95b85a6",
   "metadata": {},
   "outputs": [
    {
     "data": {
      "text/plain": [
       "['hyder', 'b', 'd']"
      ]
     },
     "execution_count": 23,
     "metadata": {},
     "output_type": "execute_result"
    }
   ],
   "source": [
    "s1.split(\"a\")"
   ]
  },
  {
   "cell_type": "markdown",
   "id": "bb7f75c1",
   "metadata": {},
   "source": [
    "# 2.try to convert the whole string to lower case"
   ]
  },
  {
   "cell_type": "code",
   "execution_count": 24,
   "id": "45e6f8aa",
   "metadata": {},
   "outputs": [],
   "source": [
    "s2=\"LIVE IN THE SUNSHINE\""
   ]
  },
  {
   "cell_type": "code",
   "execution_count": 25,
   "id": "836bcafc",
   "metadata": {},
   "outputs": [
    {
     "data": {
      "text/plain": [
       "'live in the sunshine'"
      ]
     },
     "execution_count": 25,
     "metadata": {},
     "output_type": "execute_result"
    }
   ],
   "source": [
    "s2.lower()"
   ]
  },
  {
   "cell_type": "markdown",
   "id": "e3f5256e",
   "metadata": {},
   "source": [
    "# 3.try to capitalize the string"
   ]
  },
  {
   "cell_type": "code",
   "execution_count": 26,
   "id": "1d4d1f5f",
   "metadata": {},
   "outputs": [],
   "source": [
    "s3=\"movie night\""
   ]
  },
  {
   "cell_type": "code",
   "execution_count": 27,
   "id": "4179af7d",
   "metadata": {},
   "outputs": [
    {
     "data": {
      "text/plain": [
       "'Movie night'"
      ]
     },
     "execution_count": 27,
     "metadata": {},
     "output_type": "execute_result"
    }
   ],
   "source": [
    "s3.capitalize()"
   ]
  },
  {
   "cell_type": "markdown",
   "id": "00c60238",
   "metadata": {},
   "source": [
    "# 4.write the difference between isalnum() and isalpha()"
   ]
  },
  {
   "cell_type": "markdown",
   "id": "b9b8a576",
   "metadata": {},
   "source": [
    "isalpha() returns true if a string contains only letters.\n",
    "isalnum() returns true if a string contains alphanumeric characters without symbols."
   ]
  },
  {
   "cell_type": "markdown",
   "id": "bc94118c",
   "metadata": {},
   "source": [
    "# 5.try to give an example of expand tab"
   ]
  },
  {
   "cell_type": "code",
   "execution_count": 28,
   "id": "3965ea7b",
   "metadata": {},
   "outputs": [],
   "source": [
    "s4=\"xyz\\t12345\\tabc\""
   ]
  },
  {
   "cell_type": "code",
   "execution_count": 29,
   "id": "c9768fb6",
   "metadata": {},
   "outputs": [
    {
     "data": {
      "text/plain": [
       "'xyz\\t12345\\tabc'"
      ]
     },
     "execution_count": 29,
     "metadata": {},
     "output_type": "execute_result"
    }
   ],
   "source": [
    "s4"
   ]
  },
  {
   "cell_type": "code",
   "execution_count": 30,
   "id": "3ca100de",
   "metadata": {},
   "outputs": [
    {
     "data": {
      "text/plain": [
       "'xyz       12345     abc'"
      ]
     },
     "execution_count": 30,
     "metadata": {},
     "output_type": "execute_result"
    }
   ],
   "source": [
    "s4.expandtabs(10)"
   ]
  },
  {
   "cell_type": "markdown",
   "id": "5be12812",
   "metadata": {},
   "source": [
    "# 6.give an example of lstrip,strip and rstrip"
   ]
  },
  {
   "cell_type": "code",
   "execution_count": 36,
   "id": "3c9bcc89",
   "metadata": {},
   "outputs": [],
   "source": [
    "s5=\"     Jayasree      \""
   ]
  },
  {
   "cell_type": "code",
   "execution_count": 37,
   "id": "37fcbd10",
   "metadata": {},
   "outputs": [
    {
     "data": {
      "text/plain": [
       "'Jayasree'"
      ]
     },
     "execution_count": 37,
     "metadata": {},
     "output_type": "execute_result"
    }
   ],
   "source": [
    "s5.strip()"
   ]
  },
  {
   "cell_type": "code",
   "execution_count": 38,
   "id": "0b41fa7c",
   "metadata": {},
   "outputs": [
    {
     "data": {
      "text/plain": [
       "'Jayasree      '"
      ]
     },
     "execution_count": 38,
     "metadata": {},
     "output_type": "execute_result"
    }
   ],
   "source": [
    "s5.lstrip()"
   ]
  },
  {
   "cell_type": "code",
   "execution_count": 39,
   "id": "cb0bb599",
   "metadata": {},
   "outputs": [
    {
     "data": {
      "text/plain": [
       "'     Jayasree'"
      ]
     },
     "execution_count": 39,
     "metadata": {},
     "output_type": "execute_result"
    }
   ],
   "source": [
    "s5.rstrip()"
   ]
  },
  {
   "cell_type": "markdown",
   "id": "e74c7165",
   "metadata": {},
   "source": [
    "# 7.replace a string character by another character"
   ]
  },
  {
   "cell_type": "code",
   "execution_count": 40,
   "id": "4c45f911",
   "metadata": {},
   "outputs": [],
   "source": [
    "s6=\"Charlie\""
   ]
  },
  {
   "cell_type": "code",
   "execution_count": 42,
   "id": "e8746071",
   "metadata": {},
   "outputs": [
    {
     "data": {
      "text/plain": [
       "'Charlie'"
      ]
     },
     "execution_count": 42,
     "metadata": {},
     "output_type": "execute_result"
    }
   ],
   "source": [
    "s6"
   ]
  },
  {
   "cell_type": "code",
   "execution_count": 43,
   "id": "b7a343d1",
   "metadata": {},
   "outputs": [
    {
     "data": {
      "text/plain": [
       "'Chaplie'"
      ]
     },
     "execution_count": 43,
     "metadata": {},
     "output_type": "execute_result"
    }
   ],
   "source": [
    "s6.replace('r','p')"
   ]
  },
  {
   "cell_type": "markdown",
   "id": "af199f03",
   "metadata": {},
   "source": [
    "# 8.try to give a definition of string center with example"
   ]
  },
  {
   "cell_type": "markdown",
   "id": "97a0838c",
   "metadata": {},
   "source": [
    "center() method will center align the string,using a specified character"
   ]
  },
  {
   "cell_type": "code",
   "execution_count": 44,
   "id": "5a23b40b",
   "metadata": {},
   "outputs": [],
   "source": [
    "s7=\"Learning Python\""
   ]
  },
  {
   "cell_type": "code",
   "execution_count": 45,
   "id": "8fa89bae",
   "metadata": {},
   "outputs": [
    {
     "data": {
      "text/plain": [
       "'Learning Python'"
      ]
     },
     "execution_count": 45,
     "metadata": {},
     "output_type": "execute_result"
    }
   ],
   "source": [
    "s7"
   ]
  },
  {
   "cell_type": "code",
   "execution_count": 47,
   "id": "e6613977",
   "metadata": {},
   "outputs": [
    {
     "data": {
      "text/plain": [
       "'$$$$$$$$Learning Python$$$$$$$$$'"
      ]
     },
     "execution_count": 47,
     "metadata": {},
     "output_type": "execute_result"
    }
   ],
   "source": [
    "s7.center(32,'$')"
   ]
  }
 ],
 "metadata": {
  "kernelspec": {
   "display_name": "Python 3 (ipykernel)",
   "language": "python",
   "name": "python3"
  },
  "language_info": {
   "codemirror_mode": {
    "name": "ipython",
    "version": 3
   },
   "file_extension": ".py",
   "mimetype": "text/x-python",
   "name": "python",
   "nbconvert_exporter": "python",
   "pygments_lexer": "ipython3",
   "version": "3.10.5"
  }
 },
 "nbformat": 4,
 "nbformat_minor": 5
}
